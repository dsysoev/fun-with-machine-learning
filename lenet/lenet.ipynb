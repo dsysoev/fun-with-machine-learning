{
 "cells": [
  {
   "cell_type": "markdown",
   "metadata": {},
   "source": [
    "# download mnist dataset\n",
    "```bash load_mnist.sh```"
   ]
  },
  {
   "cell_type": "code",
   "execution_count": 1,
   "metadata": {},
   "outputs": [],
   "source": [
    "import os\n",
    "import struct\n",
    "import numpy as np\n",
    "\n",
    "\n",
    "def load_mnist(path, kind='train'):\n",
    "    \"\"\"Load MNIST data from `path`\"\"\"\n",
    "    labels_path = os.path.join(path, '%s-labels-idx1-ubyte' % kind)\n",
    "    images_path = os.path.join(path, '%s-images-idx3-ubyte' % kind)\n",
    "\n",
    "    with open(labels_path, 'rb') as lbpath:\n",
    "        magic, n = struct.unpack('>II', lbpath.read(8))\n",
    "        labels = np.fromfile(lbpath, dtype=np.uint8)\n",
    "\n",
    "    with open(images_path, 'rb') as imgpath:\n",
    "        magic, num, rows, cols = struct.unpack(\">IIII\", imgpath.read(16))\n",
    "        images = np.fromfile(imgpath, dtype=np.uint8).reshape(len(labels), 784)\n",
    "    return images, labels\n"
   ]
  },
  {
   "cell_type": "code",
   "execution_count": 2,
   "metadata": {},
   "outputs": [],
   "source": [
    "from torch.utils.data import Dataset, DataLoader\n",
    "from torchvision import transforms\n",
    "\n",
    "class RandomDataset(Dataset):\n",
    "\n",
    "    def __init__(self, path, kind):\n",
    "        # load data\n",
    "        inputs, targets = load_mnist(path, kind=kind)\n",
    "        self.len = inputs.shape[0]\n",
    "        # normalize input values using min max scaler style\n",
    "        x = torch.tensor(((inputs / 255.) - 0.5).reshape((-1, 28, 28)), dtype=torch.double)\n",
    "        m = nn.ConstantPad2d(2, -0.5)\n",
    "        self.x = m(x).unsqueeze(1).float()\n",
    "        # one hot encoding labels\n",
    "        self.y = torch.tensor(targets, dtype=torch.long)\n",
    "\n",
    "    def __getitem__(self, index):\n",
    "        return self.x[index], self.y[index]\n",
    "\n",
    "    def __len__(self):\n",
    "        return self.len\n",
    "    "
   ]
  },
  {
   "cell_type": "code",
   "execution_count": 3,
   "metadata": {},
   "outputs": [],
   "source": [
    "import torch\n",
    "import torch.nn as nn\n",
    "import torch.nn.functional as F\n",
    "\n",
    "\n",
    "class Net(nn.Module):\n",
    "\n",
    "    def __init__(self):\n",
    "        super(Net, self).__init__()\n",
    "        # 1 input image channel, 6 output channels, 3x3 square convolution\n",
    "        # kernel\n",
    "        self.conv1 = nn.Conv2d(1, 6, 3)\n",
    "        self.conv2 = nn.Conv2d(6, 16, 3)\n",
    "        # an affine operation: y = Wx + b\n",
    "        self.fc1 = nn.Linear(16 * 6 * 6, 120)  # 6*6 from image dimension\n",
    "        self.fc2 = nn.Linear(120, 84)\n",
    "        self.fc3 = nn.Linear(84, 10)\n",
    "\n",
    "    def forward(self, x):\n",
    "        # Max pooling over a (2, 2) window\n",
    "        x = F.max_pool2d(F.relu(self.conv1(x)), (2, 2))\n",
    "        # If the size is a square you can only specify a single number\n",
    "        x = F.max_pool2d(F.relu(self.conv2(x)), 2)\n",
    "        x = x.view(-1, self.num_flat_features(x))\n",
    "        x = F.relu(self.fc1(x))\n",
    "        x = F.relu(self.fc2(x))\n",
    "        x = self.fc3(x)\n",
    "        return F.log_softmax(x, dim=1).float()\n",
    "\n",
    "    def num_flat_features(self, x):\n",
    "        size = x.size()[1:]  # all dimensions except the batch dimension\n",
    "        num_features = 1\n",
    "        for s in size:\n",
    "            num_features *= s\n",
    "        return num_features\n"
   ]
  },
  {
   "cell_type": "code",
   "execution_count": 4,
   "metadata": {},
   "outputs": [],
   "source": [
    "def train(args, model, loss_func, device, train_loader, optimizer, epoch):\n",
    "    model.train()\n",
    "    for data, target in train_loader:\n",
    "        data, target = data.to(device), target.to(device)\n",
    "        optimizer.zero_grad()\n",
    "        output = model(data)\n",
    "        loss = loss_func(output, target)\n",
    "        loss.backward()\n",
    "        optimizer.step()\n",
    "        \n",
    "        \n",
    "def score(args, model, loss_func, device, test_loader, optimizer, epoch):\n",
    "    model.eval()\n",
    "    test_loss = 0\n",
    "    accuracy = 0\n",
    "    with torch.no_grad():\n",
    "        for data, target in test_loader:\n",
    "            data, target = data.to(device), target.to(device)\n",
    "            output = model(data)\n",
    "            test_loss += loss_func(output, target, reduction='sum').item()  # sum up batch loss\n",
    "            pred = output.argmax(dim=1, keepdim=True)  # get the index of the max log-probability\n",
    "            accuracy += pred.eq(target.view_as(pred)).sum().item()\n",
    "            \n",
    "    accuracy = 100. * accuracy / len(test_loader.dataset)\n",
    "    test_loss /= len(test_loader.dataset)\n",
    "    \n",
    "    print('test accuracy  : {:.2f} '.format(accuracy), end='')\n",
    "    print('test loss : {:.4f} '.format(test_loss), end='')\n",
    "    "
   ]
  },
  {
   "cell_type": "code",
   "execution_count": 5,
   "metadata": {},
   "outputs": [
    {
     "name": "stdout",
     "output_type": "stream",
     "text": [
      "Net(\n",
      "  (conv1): Conv2d(1, 6, kernel_size=(3, 3), stride=(1, 1))\n",
      "  (conv2): Conv2d(6, 16, kernel_size=(3, 3), stride=(1, 1))\n",
      "  (fc1): Linear(in_features=576, out_features=120, bias=True)\n",
      "  (fc2): Linear(in_features=120, out_features=84, bias=True)\n",
      "  (fc3): Linear(in_features=84, out_features=10, bias=True)\n",
      ")\n",
      "\n",
      "epoch     : 1/20 test accuracy  : 29.11 test loss : 2.2784 \n",
      "epoch     : 2/20 test accuracy  : 75.42 test loss : 0.7489 \n",
      "epoch     : 3/20 test accuracy  : 91.83 test loss : 0.2681 \n",
      "epoch     : 4/20 test accuracy  : 94.82 test loss : 0.1770 \n",
      "epoch     : 5/20 test accuracy  : 95.73 test loss : 0.1343 \n",
      "epoch     : 6/20 test accuracy  : 96.64 test loss : 0.1136 \n",
      "epoch     : 7/20 test accuracy  : 97.03 test loss : 0.0976 \n",
      "epoch     : 8/20 test accuracy  : 96.92 test loss : 0.0910 \n",
      "epoch     : 9/20 test accuracy  : 97.66 test loss : 0.0754 \n",
      "epoch     : 10/20 test accuracy  : 97.53 test loss : 0.0803 \n",
      "epoch     : 11/20 test accuracy  : 97.40 test loss : 0.0810 \n",
      "epoch     : 12/20 test accuracy  : 97.96 test loss : 0.0653 \n",
      "epoch     : 13/20 test accuracy  : 97.82 test loss : 0.0670 \n",
      "epoch     : 14/20 test accuracy  : 97.16 test loss : 0.0871 \n",
      "epoch     : 15/20 test accuracy  : 98.19 test loss : 0.0575 \n",
      "epoch     : 16/20 test accuracy  : 98.18 test loss : 0.0555 \n",
      "epoch     : 17/20 test accuracy  : 98.08 test loss : 0.0560 \n",
      "epoch     : 18/20 test accuracy  : 97.00 test loss : 0.0871 \n",
      "epoch     : 19/20 test accuracy  : 98.30 test loss : 0.0529 \n",
      "epoch     : 20/20 test accuracy  : 98.39 test loss : 0.0486 "
     ]
    }
   ],
   "source": [
    "import torch.optim as optim\n",
    "\n",
    "seed = 47\n",
    "num_epoch = 20\n",
    "alpha = 0.01\n",
    "batch_size = 64\n",
    "device = 'cpu'\n",
    "\n",
    "torch.manual_seed(seed)\n",
    "\n",
    "train_loader = DataLoader(dataset=RandomDataset('../data/', 'train'),\n",
    "                          batch_size=batch_size,\n",
    "                          shuffle=True)\n",
    "\n",
    "test_loader = DataLoader(dataset=RandomDataset('../data/', 't10k'),\n",
    "                         batch_size=512,\n",
    "                         shuffle=True)\n",
    "\n",
    "net = Net()\n",
    "print(net)\n",
    "\n",
    "# create your optimizer\n",
    "optimizer = optim.SGD(net.parameters(), lr=alpha)\n",
    "\n",
    "for epoch in range(num_epoch): \n",
    "    print('')\n",
    "    print('epoch     : {}/{} '.format(epoch + 1, num_epoch), end='')\n",
    "    train({}, net, F.nll_loss, device, train_loader, optimizer, epoch)\n",
    "    score({}, net, F.nll_loss, device, test_loader, optimizer, epoch)\n"
   ]
  },
  {
   "cell_type": "code",
   "execution_count": 6,
   "metadata": {},
   "outputs": [
    {
     "data": {
      "image/png": "[encoded data removed]",
      "text/plain": [
       "<Figure size 648x648 with 9 Axes>"
      ]
     },
     "metadata": {},
     "output_type": "display_data"
    }
   ],
   "source": [
    "%matplotlib inline\n",
    "import matplotlib.pyplot as plt\n",
    "\n",
    "loader = DataLoader(dataset=RandomDataset('../data/', 't10k'),\n",
    "                    batch_size=9,\n",
    "                    shuffle=True)\n",
    "\n",
    "for x, y in loader:\n",
    "    pred = net(x).argmax(dim=1, keepdim=True).numpy()\n",
    "    \n",
    "    size = int(np.ceil(x.shape[0] ** 0.5))\n",
    "    fig, axes = plt.subplots(nrows=size, ncols=size, figsize=(size * 3, size * 3))\n",
    "    axes = [y for x in axes for y in x]\n",
    "\n",
    "    for i in range(x.shape[0]):\n",
    "        axes[i].set_title('true : {} pred: {}'.format(y[i], pred[i][0]))\n",
    "        axes[i].imshow(x[i, 0, :, :], cmap='gray')\n",
    "        axes[i].set_xticks([])\n",
    "        axes[i].set_yticks([])\n",
    "    break"
   ]
  },
  {
   "cell_type": "code",
   "execution_count": null,
   "metadata": {},
   "outputs": [],
   "source": []
  }
 ],
 "metadata": {
  "anaconda-cloud": {},
  "kernelspec": {
   "display_name": "Python 3",
   "language": "python",
   "name": "python3"
  },
  "language_info": {
   "codemirror_mode": {
    "name": "ipython",
    "version": 3
   },
   "file_extension": ".py",
   "mimetype": "text/x-python",
   "name": "python",
   "nbconvert_exporter": "python",
   "pygments_lexer": "ipython3",
   "version": "3.6.7"
  }
 },
 "nbformat": 4,
 "nbformat_minor": 4
}
