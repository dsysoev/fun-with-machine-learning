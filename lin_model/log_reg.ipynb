{
 "cells": [
  {
   "cell_type": "code",
   "execution_count": 1,
   "metadata": {},
   "outputs": [],
   "source": [
    "import matplotlib.pyplot as plt\n",
    "%matplotlib inline\n",
    "\n",
    "import tensorflow as tf\n",
    "s = tf.InteractiveSession(config=tf.ConfigProto())"
   ]
  },
  {
   "cell_type": "code",
   "execution_count": 2,
   "metadata": {},
   "outputs": [
    {
     "name": "stdout",
     "output_type": "stream",
     "text": [
      "y [shape - (360,)]: [0 1 0 1 0 1 0 0 1 1]\n",
      "X [shape - (360, 64)]:\n",
      "X:\n",
      " [[ 0.  0.  5. 13.  9.  1.  0.  0.  0.  0.]\n",
      " [ 0.  0.  0. 12. 13.  5.  0.  0.  0.  0.]\n",
      " [ 0.  0.  1.  9. 15. 11.  0.  0.  0.  0.]]\n",
      "y:\n",
      " [0 1 0 1 0 1 0 0 1 1]\n"
     ]
    },
    {
     "data": {
      "image/png": "[encoded data removed]",
      "text/plain": [
       "<Figure size 432x288 with 1 Axes>"
      ]
     },
     "metadata": {
      "needs_background": "light"
     },
     "output_type": "display_data"
    },
    {
     "data": {
      "text/plain": [
       "<matplotlib.image.AxesImage at 0x7fc96a20c828>"
      ]
     },
     "execution_count": 2,
     "metadata": {},
     "output_type": "execute_result"
    },
    {
     "data": {
      "image/png": "[encoded data removed]",
      "text/plain": [
       "<Figure size 432x288 with 1 Axes>"
      ]
     },
     "metadata": {
      "needs_background": "light"
     },
     "output_type": "display_data"
    }
   ],
   "source": [
    "import numpy as np\n",
    "from sklearn.datasets import load_digits\n",
    "mnist = load_digits(2)\n",
    "\n",
    "X,y = mnist.data, mnist.target\n",
    "\n",
    "print(\"y [shape - %s]:\" % (str(y.shape)), y[:10])\n",
    "print(\"X [shape - %s]:\" % (str(X.shape)))\n",
    "\n",
    "print('X:\\n',X[:3,:10])\n",
    "print('y:\\n',y[:10])\n",
    "plt.imshow(X[0].reshape([8,8]))\n",
    "plt.show()\n",
    "plt.imshow(X[1].reshape([8,8]))"
   ]
  },
  {
   "cell_type": "code",
   "execution_count": 3,
   "metadata": {},
   "outputs": [],
   "source": [
    "from sklearn.model_selection import train_test_split\n",
    "X_train, X_test, y_train, y_test = train_test_split(X, y, random_state=47)"
   ]
  },
  {
   "cell_type": "code",
   "execution_count": 4,
   "metadata": {},
   "outputs": [],
   "source": [
    "# inputs and shareds\n",
    "weights = tf.Variable(dtype='float32', initial_value=np.zeros((64, 1)), name='weights')\n",
    "b = tf.Variable(dtype='float32', initial_value=1, name='bias')\n",
    "\n",
    "input_X = tf.placeholder('float32', [None, 64], name='X')\n",
    "input_y = tf.placeholder('float32', [None, 1], name='y')"
   ]
  },
  {
   "cell_type": "code",
   "execution_count": 5,
   "metadata": {},
   "outputs": [],
   "source": [
    "def predict_function(input_X):\n",
    "    return tf.round(tf.nn.sigmoid(tf.matmul(tf.cast(input_X, tf.float32), weights))).eval()"
   ]
  },
  {
   "cell_type": "code",
   "execution_count": 6,
   "metadata": {},
   "outputs": [
    {
     "name": "stdout",
     "output_type": "stream",
     "text": [
      "loss at iter  0: 0.3068\n",
      "train auc      : 0.5000\n",
      "test auc       : 0.5000\n",
      "loss at iter  1: 0.2338\n",
      "train auc      : 0.9453\n",
      "test auc       : 0.9146\n",
      "loss at iter  2: 0.2024\n",
      "train auc      : 0.5789\n",
      "test auc       : 0.6122\n",
      "loss at iter  3: 0.1182\n",
      "train auc      : 0.9962\n",
      "test auc       : 0.9898\n",
      "loss at iter  4: 0.0214\n",
      "train auc      : 0.9850\n",
      "test auc       : 0.9796\n",
      "loss at iter  5: 0.0104\n",
      "train auc      : 0.9812\n",
      "test auc       : 0.9796\n",
      "loss at iter  6: 0.0098\n",
      "train auc      : 0.9812\n",
      "test auc       : 0.9796\n",
      "loss at iter  7: 0.0093\n",
      "train auc      : 0.9850\n",
      "test auc       : 0.9796\n",
      "loss at iter  8: 0.0088\n",
      "train auc      : 0.9887\n",
      "test auc       : 0.9796\n",
      "loss at iter  9: 0.0084\n",
      "train auc      : 0.9887\n",
      "test auc       : 0.9796\n",
      "resulting weights:\n"
     ]
    },
    {
     "data": {
      "image/png": "[encoded data removed]",
      "text/plain": [
       "<Figure size 432x288 with 2 Axes>"
      ]
     },
     "metadata": {
      "needs_background": "light"
     },
     "output_type": "display_data"
    }
   ],
   "source": [
    "from sklearn.metrics import roc_auc_score\n",
    "\n",
    "model = tf.nn.sigmoid(tf.matmul(input_X, weights) + b)\n",
    "\n",
    "loss = tf.reduce_mean((model - input_y) ** 2, name='loss_func') \n",
    "\n",
    "optimizer = tf.train.GradientDescentOptimizer(0.01).minimize(loss)\n",
    "\n",
    "s.run(tf.global_variables_initializer())\n",
    "\n",
    "for i in range(10):\n",
    "    _, loss_i = s.run(\n",
    "        [optimizer, loss],\n",
    "        feed_dict={input_X: X_train, input_y: y_train.reshape((-1, 1))}\n",
    "    )\n",
    "    \n",
    "    print(\"loss at iter {:2d}: {:.4f}\".format(i, loss_i))\n",
    "    print(\"train auc      : {:.4f}\".format(roc_auc_score(y_train, predict_function(X_train))))\n",
    "    print(\"test auc       : {:.4f}\".format(roc_auc_score(y_test, predict_function(X_test))))\n",
    "\n",
    "    \n",
    "shared_weights = weights.eval()\n",
    "print (\"resulting weights:\")\n",
    "plt.imshow(shared_weights.reshape(8, -1))\n",
    "plt.colorbar();"
   ]
  },
  {
   "cell_type": "code",
   "execution_count": null,
   "metadata": {},
   "outputs": [],
   "source": []
  }
 ],
 "metadata": {
  "kernelspec": {
   "display_name": "Python 3",
   "language": "python",
   "name": "python3"
  },
  "language_info": {
   "codemirror_mode": {
    "name": "ipython",
    "version": 3
   },
   "file_extension": ".py",
   "mimetype": "text/x-python",
   "name": "python",
   "nbconvert_exporter": "python",
   "pygments_lexer": "ipython3",
   "version": "3.6.7"
  }
 },
 "nbformat": 4,
 "nbformat_minor": 2
}
