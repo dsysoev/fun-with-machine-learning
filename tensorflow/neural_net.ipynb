{
 "cells": [
  {
   "cell_type": "code",
   "execution_count": 1,
   "metadata": {},
   "outputs": [],
   "source": [
    "import os\n",
    "\n",
    "os.chdir('../')\n",
    "\n",
    "import tensorflow as tf\n",
    "import numpy as np\n",
    "\n",
    "from sklearn.metrics import accuracy_score\n",
    "import matplotlib.pyplot as plt\n",
    "%matplotlib inline\n",
    "\n",
    "from neural_network.data import load_mnist, encode_labels\n",
    "\n",
    "\n",
    "gpu_options = tf.GPUOptions(allow_growth=True, per_process_gpu_memory_fraction=0.1)\n",
    "s = tf.InteractiveSession(config=tf.ConfigProto(gpu_options=gpu_options))"
   ]
  },
  {
   "cell_type": "code",
   "execution_count": 2,
   "metadata": {},
   "outputs": [],
   "source": [
    "def encode_labels(y, k):\n",
    "    \"\"\"\n",
    "    function convert labels to one hot vector\n",
    "    \"\"\"\n",
    "    onehot = np.zeros((y.shape[0], k))\n",
    "    for idx, val in enumerate(y):\n",
    "        onehot[idx, val] = 1.0\n",
    "    return onehot\n",
    "\n",
    "# set random seed\n",
    "np.random.seed(137)\n",
    "# load mnist data\n",
    "train_inputs, train_targets = load_mnist('neural_network/data/', kind='train')\n",
    "test_inputs, test_targets = load_mnist('neural_network/data/', kind='t10k')\n",
    "# normalize input values using min max scaler style\n",
    "train_inputs_normalized = train_inputs / 255.\n",
    "test_inputs_normalized = test_inputs / 255.\n",
    "# one hot encoding labels\n",
    "train_targets_enc = encode_labels(train_targets, 10)"
   ]
  },
  {
   "cell_type": "code",
   "execution_count": 3,
   "metadata": {},
   "outputs": [
    {
     "data": {
      "text/plain": [
       "<matplotlib.image.AxesImage at 0x7f7754415828>"
      ]
     },
     "execution_count": 3,
     "metadata": {},
     "output_type": "execute_result"
    },
    {
     "data": {
      "image/png": "[encoded data removed]",
      "text/plain": [
       "<Figure size 432x288 with 1 Axes>"
      ]
     },
     "metadata": {
      "needs_background": "light"
     },
     "output_type": "display_data"
    }
   ],
   "source": [
    "plt.imshow(train_inputs_normalized[100, :].reshape((28, 28)))"
   ]
  },
  {
   "cell_type": "code",
   "execution_count": 4,
   "metadata": {},
   "outputs": [],
   "source": [
    "input_X = tf.placeholder('float64', [None, 784], name='X')\n",
    "input_y = tf.placeholder('float64', [None, 10], name='y')\n",
    "\n",
    "# inputs and shareds\n",
    "weights_1 = tf.Variable(dtype='float64', initial_value=np.random.randn(784, 32), name='weights_1')\n",
    "weights_2 = tf.Variable(dtype='float64', initial_value=np.random.randn(32, 10), name='weights_2')\n",
    "\n",
    "b_1 = tf.Variable(dtype='float64', initial_value=np.random.randn(1, 32), name='b_1')\n",
    "b_2 = tf.Variable(dtype='float64', initial_value=np.random.randn(1, 10), name='b_2')\n",
    "\n",
    "def forward(input_X):\n",
    "    fc1 = tf.matmul(input_X, weights_1) + b_1\n",
    "    relu1 = tf.nn.relu(fc1)\n",
    "    fc2 = tf.matmul(relu1, weights_2) + b_2\n",
    "    return fc2\n",
    "\n",
    "def predict_function(inputs):\n",
    "    predicted = tf.argmax(forward(tf.cast(inputs, 'float64')), axis=1)\n",
    "    return predicted\n",
    "\n",
    "pred = forward(input_X)\n",
    "loss = tf.reduce_mean(\n",
    "      tf.nn.softmax_cross_entropy_with_logits_v2(labels=input_y, logits=pred))\n",
    "\n",
    "optimizer = tf.train.GradientDescentOptimizer(0.01).minimize(loss)"
   ]
  },
  {
   "cell_type": "code",
   "execution_count": 5,
   "metadata": {},
   "outputs": [
    {
     "name": "stdout",
     "output_type": "stream",
     "text": [
      "epoch  0 loss 10224.6706 test auc: 0.6763\n",
      "epoch  1 loss 3573.3217 test auc: 0.7227\n",
      "epoch  2 loss 2928.6623 test auc: 0.7527\n",
      "epoch  3 loss 2569.3371 test auc: 0.7763\n",
      "epoch  4 loss 2325.2959 test auc: 0.7942\n",
      "epoch  5 loss 2154.9757 test auc: 0.8079\n",
      "epoch  6 loss 2030.0624 test auc: 0.8184\n",
      "epoch  7 loss 1932.4990 test auc: 0.8254\n",
      "epoch  8 loss 1852.6206 test auc: 0.8337\n",
      "epoch  9 loss 1785.4206 test auc: 0.8401\n"
     ]
    }
   ],
   "source": [
    "s.run(tf.global_variables_initializer())\n",
    "\n",
    "# set batch size\n",
    "batch_size = 16\n",
    "\n",
    "for i in range(10):\n",
    "    \n",
    "    sum_loss = 0\n",
    "    for ind in range(0, train_inputs_normalized.shape[0] - batch_size, batch_size):\n",
    "        \n",
    "        batch_xs = train_inputs_normalized[ind:ind + batch_size, :]\n",
    "        batch_ys = train_targets_enc[ind:ind + batch_size, :]\n",
    "    \n",
    "        _, loss_i = s.run(\n",
    "            [optimizer, loss],\n",
    "            feed_dict={input_X: batch_xs, input_y: batch_ys}\n",
    "        )\n",
    "        sum_loss += loss_i\n",
    "    \n",
    "    accuracy_test = accuracy_score(\n",
    "        test_targets,\n",
    "        predict_function(test_inputs_normalized).eval()\n",
    "    )\n",
    "    \n",
    "    print(\"epoch {:2d} loss {:.4f} test auc: {:.4f}\".format(i, sum_loss, accuracy_test))"
   ]
  },
  {
   "cell_type": "code",
   "execution_count": null,
   "metadata": {},
   "outputs": [],
   "source": []
  }
 ],
 "metadata": {
  "kernelspec": {
   "display_name": "Python 3",
   "language": "python",
   "name": "python3"
  },
  "language_info": {
   "codemirror_mode": {
    "name": "ipython",
    "version": 3
   },
   "file_extension": ".py",
   "mimetype": "text/x-python",
   "name": "python",
   "nbconvert_exporter": "python",
   "pygments_lexer": "ipython3",
   "version": "3.6.7"
  }
 },
 "nbformat": 4,
 "nbformat_minor": 2
}
